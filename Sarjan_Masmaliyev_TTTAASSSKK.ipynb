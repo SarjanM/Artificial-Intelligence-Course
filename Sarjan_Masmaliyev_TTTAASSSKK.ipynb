{
  "nbformat": 4,
  "nbformat_minor": 0,
  "metadata": {
    "colab": {
      "provenance": []
    },
    "kernelspec": {
      "name": "python3",
      "display_name": "Python 3"
    },
    "language_info": {
      "name": "python"
    }
  },
  "cells": [
    {
      "cell_type": "markdown",
      "source": [
        "# Question **1**"
      ],
      "metadata": {
        "id": "ZdPAjdS3Cxfu"
      }
    },
    {
      "cell_type": "code",
      "execution_count": null,
      "metadata": {
        "colab": {
          "base_uri": "https://localhost:8080/"
        },
        "id": "sLOjpkfZBbG3",
        "outputId": "2acb6703-225c-41ec-9f9c-6fb28dd73a24"
      },
      "outputs": [
        {
          "output_type": "stream",
          "name": "stdout",
          "text": [
            "['Physics', 'Math', 'history']\n"
          ]
        }
      ],
      "source": [
        "#creating dict\n",
        "sample_dict = {\n",
        "    'Physics': 82,\n",
        "    'Math': 65,\n",
        "    'history': 75\n",
        "    }\n",
        "\n",
        "#getting keys as list\n",
        "keys = list(sample_dict.keys())\n",
        "\n",
        "#printing keys as list\n",
        "print(keys)"
      ]
    },
    {
      "cell_type": "markdown",
      "source": [
        "# Question **2**"
      ],
      "metadata": {
        "id": "DGY-RuXjDGlE"
      }
    },
    {
      "cell_type": "code",
      "source": [
        "#creating dict\n",
        "sample_dict = {\n",
        "    'Physics': 82,\n",
        "    'Math': 65,\n",
        "    'history': 75,\n",
        "    'chemistry': 89,\n",
        "    'GK': 50\n",
        "    }\n",
        "\n",
        "#looping through the dict to sum all values\n",
        "total = 0\n",
        "for value in sample_dict.values():\n",
        "  total += value\n",
        "\n",
        "print(f'Sum of the all values is {total}.')\n"
      ],
      "metadata": {
        "colab": {
          "base_uri": "https://localhost:8080/"
        },
        "id": "09443ojSDFvw",
        "outputId": "790c90d5-203a-4e88-e62c-70178d7ca47b"
      },
      "execution_count": null,
      "outputs": [
        {
          "output_type": "stream",
          "name": "stdout",
          "text": [
            "Sum of the all values is 361.\n"
          ]
        }
      ]
    },
    {
      "cell_type": "markdown",
      "source": [
        "# Question **3**"
      ],
      "metadata": {
        "id": "iIHb826hD0Br"
      }
    },
    {
      "cell_type": "code",
      "source": [
        "#creating dict\n",
        "sample_dict = {\n",
        "  'Physics': 82,\n",
        "  'Math': 65,\n",
        "  'history': 75\n",
        "}\n",
        "\n",
        "#looping through the dict to find the minimum score\n",
        "minn = ''\n",
        "minn_val = 100\n",
        "for key,value in sample_dict.items():\n",
        "  if minn_val >= value:\n",
        "    minn_val = value\n",
        "    minn = key\n",
        "print(f'{minn}')"
      ],
      "metadata": {
        "colab": {
          "base_uri": "https://localhost:8080/"
        },
        "id": "J2n5nt8QDy66",
        "outputId": "e54ff077-96be-40d2-93e9-ac93ad3bd768"
      },
      "execution_count": null,
      "outputs": [
        {
          "output_type": "stream",
          "name": "stdout",
          "text": [
            "Math\n"
          ]
        }
      ]
    },
    {
      "cell_type": "markdown",
      "source": [
        "# Question **4**"
      ],
      "metadata": {
        "id": "eDZK7ADYFCyt"
      }
    },
    {
      "cell_type": "code",
      "source": [
        "#creating dict\n",
        "sample_dict = {\n",
        "    \"name\": \"Khalid\",\n",
        "    \"age\": 23,\n",
        "    \"salary\": 1000,\n",
        "    \"city\": \"Baku\"\n",
        "}\n",
        "\n",
        "# Keys to remove\n",
        "keys = [\"name\", \"salary\"]\n",
        "\n",
        "#loop for remove\n",
        "for key in keys:\n",
        "  sample_dict.pop(key)\n",
        "\n",
        "print(sample_dict)"
      ],
      "metadata": {
        "colab": {
          "base_uri": "https://localhost:8080/"
        },
        "id": "x54rs_KQE050",
        "outputId": "3546d895-7659-43bf-ce75-d3cd4f840d3b"
      },
      "execution_count": null,
      "outputs": [
        {
          "output_type": "stream",
          "name": "stdout",
          "text": [
            "{'age': 23, 'city': 'Baku'}\n"
          ]
        }
      ]
    },
    {
      "cell_type": "markdown",
      "source": [
        "# Question **5**"
      ],
      "metadata": {
        "id": "1yeCegGLFhlB"
      }
    },
    {
      "cell_type": "code",
      "source": [
        "#creating dict\n",
        "sample_dict = {\n",
        "    \"name\": \"Khalid\",\n",
        "    \"age\": 23,\n",
        "    \"salary\": 1000,\n",
        "    \"city\": \"Baku\"\n",
        "    }\n",
        "\n",
        "# Keys to extract\n",
        "keys = [\"name\", \"salary\"]\n",
        "new_dict = {}\n",
        "#loop to extract\n",
        "for key in keys:\n",
        "  new_dict.update({key : sample_dict[key]})\n",
        "\n",
        "print(new_dict)"
      ],
      "metadata": {
        "colab": {
          "base_uri": "https://localhost:8080/"
        },
        "id": "2Ei8H18tFjy4",
        "outputId": "13b560aa-88af-487c-f42f-50f0914b3986"
      },
      "execution_count": null,
      "outputs": [
        {
          "output_type": "stream",
          "name": "stdout",
          "text": [
            "{'name': 'Khalid', 'salary': 1000}\n"
          ]
        }
      ]
    },
    {
      "cell_type": "markdown",
      "source": [
        "# Question **6**"
      ],
      "metadata": {
        "id": "71PFHCDLGIFz"
      }
    },
    {
      "cell_type": "code",
      "source": [
        "#declearing variables\n",
        "num = 0\n",
        "total = 0\n",
        "for i in range(10):\n",
        "  num = int(input(f'Please enter {i+1}. number: '))\n",
        "  total += num\n",
        "print(f'Avearge of the all these 10 numbers is {total/10}.')"
      ],
      "metadata": {
        "colab": {
          "base_uri": "https://localhost:8080/"
        },
        "id": "KUvV9UUzGDxx",
        "outputId": "6c918bdc-8178-4878-8068-96202693e30d"
      },
      "execution_count": null,
      "outputs": [
        {
          "output_type": "stream",
          "name": "stdout",
          "text": [
            "Please enter 1. number: 1\n",
            "Please enter 2. number: 1\n",
            "Please enter 3. number: 1\n",
            "Please enter 4. number: 1\n",
            "Please enter 5. number: 1\n",
            "Please enter 6. number: 1\n",
            "Please enter 7. number: 1\n",
            "Please enter 8. number: 1\n",
            "Please enter 9. number: 1\n",
            "Please enter 10. number: 1\n",
            "Avearge of the all these 10 numbers is 1.0.\n"
          ]
        }
      ]
    },
    {
      "cell_type": "markdown",
      "source": [
        "# Question **7**"
      ],
      "metadata": {
        "id": "av7FF5jFbZg-"
      }
    },
    {
      "cell_type": "code",
      "source": [
        "for i in range(1,25):\n",
        "  print(f\"24 * {i} = {24*i}\")"
      ],
      "metadata": {
        "colab": {
          "base_uri": "https://localhost:8080/"
        },
        "id": "tedQfpCJGpE8",
        "outputId": "e2f13c00-04ea-4c8d-dcfb-03c78677227c"
      },
      "execution_count": null,
      "outputs": [
        {
          "output_type": "stream",
          "name": "stdout",
          "text": [
            "24 * 1 = 24\n",
            "24 * 2 = 48\n",
            "24 * 3 = 72\n",
            "24 * 4 = 96\n",
            "24 * 5 = 120\n",
            "24 * 6 = 144\n",
            "24 * 7 = 168\n",
            "24 * 8 = 192\n",
            "24 * 9 = 216\n",
            "24 * 10 = 240\n",
            "24 * 11 = 264\n",
            "24 * 12 = 288\n",
            "24 * 13 = 312\n",
            "24 * 14 = 336\n",
            "24 * 15 = 360\n",
            "24 * 16 = 384\n",
            "24 * 17 = 408\n",
            "24 * 18 = 432\n",
            "24 * 19 = 456\n",
            "24 * 20 = 480\n",
            "24 * 21 = 504\n",
            "24 * 22 = 528\n",
            "24 * 23 = 552\n",
            "24 * 24 = 576\n"
          ]
        }
      ]
    },
    {
      "cell_type": "markdown",
      "source": [
        "# Question **8**"
      ],
      "metadata": {
        "id": "3UPdl35ecEIS"
      }
    },
    {
      "cell_type": "code",
      "source": [
        "#declearing variables\n",
        "num = int(input('Please enter number: '))\n",
        "fact = 1\n",
        "print(f'{num}! = ', end = '')\n",
        "for i in range(1,num+1):\n",
        "  if num == 0 or num == 1:\n",
        "    break\n",
        "  if num != i:\n",
        "    print(f'{i} * ', end = '')\n",
        "  else:\n",
        "    print(f'{i} ', end = '')\n",
        "  fact *= i\n",
        "if num == 0 or num == 1:\n",
        "  print(f'{fact}')\n",
        "else:\n",
        "  print(f' = {fact}')"
      ],
      "metadata": {
        "colab": {
          "base_uri": "https://localhost:8080/"
        },
        "id": "RcJpIIj8cGd_",
        "outputId": "32a55b1c-6d6b-40c8-aa19-fd99336d42a5"
      },
      "execution_count": null,
      "outputs": [
        {
          "output_type": "stream",
          "name": "stdout",
          "text": [
            "Please enter number: 4\n",
            "4! = 1 * 2 * 3 * 4  = 24\n"
          ]
        }
      ]
    },
    {
      "cell_type": "markdown",
      "source": [
        "# Question **9**"
      ],
      "metadata": {
        "id": "JjyGW19PeBB5"
      }
    },
    {
      "cell_type": "code",
      "source": [
        "#decleraing variables\n",
        "num = int(input('Please enter number: '))\n",
        "summ = 0\n",
        "copynum = num\n",
        "while num > 0:\n",
        "  summ += num%10\n",
        "  num //= 10\n",
        "\n",
        "print(f'Sum of the digits of the {copynum} is {summ}')"
      ],
      "metadata": {
        "colab": {
          "base_uri": "https://localhost:8080/"
        },
        "id": "BanU54KecgyD",
        "outputId": "2aa259a2-6caa-4529-b1e9-2af0069d76ae"
      },
      "execution_count": null,
      "outputs": [
        {
          "output_type": "stream",
          "name": "stdout",
          "text": [
            "Please enter number: 16\n",
            "Sum of the digits of the 16 is 7\n"
          ]
        }
      ]
    },
    {
      "cell_type": "markdown",
      "source": [
        "# Question **10**"
      ],
      "metadata": {
        "id": "SGyJUusYeuR3"
      }
    },
    {
      "cell_type": "code",
      "source": [
        "#decleraing variables\n",
        "string = input('Please enter string: ')\n",
        "\n",
        "list_str = []\n",
        "\n",
        "for i in string:\n",
        "  if i != ' ':\n",
        "    list_str.append(i)\n",
        "print(f'Number of the characters in \"{string}\" is {len(list_str)}.')"
      ],
      "metadata": {
        "id": "OonRyWpkfibU",
        "colab": {
          "base_uri": "https://localhost:8080/"
        },
        "outputId": "4b9ac713-2d7f-49f3-d986-f39a2e3f73a3"
      },
      "execution_count": null,
      "outputs": [
        {
          "output_type": "stream",
          "name": "stdout",
          "text": [
            "Please enter string: I am Sarjan\n",
            "Number of the characters in \"I am Sarjan\" is 9.\n"
          ]
        }
      ]
    }
  ]
}