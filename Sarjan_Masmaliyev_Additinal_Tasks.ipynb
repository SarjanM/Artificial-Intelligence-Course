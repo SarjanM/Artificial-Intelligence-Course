{
  "nbformat": 4,
  "nbformat_minor": 0,
  "metadata": {
    "colab": {
      "provenance": []
    },
    "kernelspec": {
      "name": "python3",
      "display_name": "Python 3"
    },
    "language_info": {
      "name": "python"
    }
  },
  "cells": [
    {
      "cell_type": "markdown",
      "source": [
        "#**Exercise 1**"
      ],
      "metadata": {
        "id": "Vv_yOqi1fbz6"
      }
    },
    {
      "cell_type": "markdown",
      "source": [
        "\n",
        "#**Question 1**"
      ],
      "metadata": {
        "id": "GMa-PuY4fqLR"
      }
    },
    {
      "cell_type": "code",
      "source": [
        "#defining variables which we use as keys\n",
        "first_name = input('Please enter your first name: ')\n",
        "last_name = input('Please enter your last name: ')\n",
        "age = int(input('Please enter your age: '))\n",
        "city = input('Please enter your city: ')\n",
        "\n",
        "#defining dictionary\n",
        "friend = {}\n",
        "friend.update({'first_name' : first_name , 'last_name' : last_name, 'age' : age , 'city' : city})\n",
        "\n",
        "#printing values\n",
        "print(f'First name is {friend[\"first_name\"]}.')\n",
        "print(f'Lastc name is {friend[\"last_name\"]}.')\n",
        "print(f'Age is {friend[\"age\"]}.')\n",
        "print(f'City is {friend[\"city\"]}.')"
      ],
      "metadata": {
        "id": "MdKXbXPdfyib",
        "colab": {
          "base_uri": "https://localhost:8080/"
        },
        "outputId": "ebb415cd-ee0e-4dad-ada9-003a9febd1fb"
      },
      "execution_count": null,
      "outputs": [
        {
          "output_type": "stream",
          "name": "stdout",
          "text": [
            "Please enter your first name: Sarjan\n",
            "Please enter your last name: Masmaliyev\n",
            "Please enter your age: 21\n",
            "Please enter your city: Nakchivan\n",
            "First name is Sarjan.\n",
            "Lastc name is Masmaliyev.\n",
            "Age is 21.\n",
            "City is Nakchivan.\n"
          ]
        }
      ]
    },
    {
      "cell_type": "markdown",
      "source": [
        "\n",
        "#**Question 2**"
      ],
      "metadata": {
        "id": "OahVbFEuXXPe"
      }
    },
    {
      "cell_type": "code",
      "source": [
        "#defining keys\n",
        "sarjan = 2\n",
        "umman = 12\n",
        "zulfuqar = 1\n",
        "ali = 5\n",
        "aziz = 3\n",
        "\n",
        "#defining list of people\n",
        "people = ['Sarjan', 'Umman', 'Zulfuqar', 'Ali', 'Aziz']\n",
        "\n",
        "#updating dictionary\n",
        "\n",
        "fav_nums = {}\n",
        "fav_nums.update({people[0] : sarjan, people[1] : umman, people[2] : zulfuqar , people[3] : ali , people[4] : aziz})\n",
        "\n",
        "#printing values\n",
        "for i in people:\n",
        "  print(f\"{i}'s favorite number is {fav_nums[i]}.\")"
      ],
      "metadata": {
        "colab": {
          "base_uri": "https://localhost:8080/"
        },
        "id": "V0OG8TLgW9VX",
        "outputId": "f9cfd621-86c7-47e2-ea06-7aa14946a6c6"
      },
      "execution_count": null,
      "outputs": [
        {
          "output_type": "stream",
          "name": "stdout",
          "text": [
            "Sarjan's favorite number is 2.\n",
            "Umman's favorite number is 12.\n",
            "Zulfuqar's favorite number is 1.\n",
            "Ali's favorite number is 5.\n",
            "Aziz's favorite number is 3.\n"
          ]
        }
      ]
    },
    {
      "cell_type": "markdown",
      "source": [
        "# Question **3**"
      ],
      "metadata": {
        "id": "RgeTqaZSaKpk"
      }
    },
    {
      "cell_type": "code",
      "source": [
        "#defining dictionary\n",
        "dictionary = {'Variable': 'A container for storing data values.',\n",
        "              'String' : 'A sequence of characters.',\n",
        "              'List' : 'An ordered collection of items. ',\n",
        "              'Dictionary' : 'A collection of key-value pairs.',\n",
        "              'Function' : 'A block of code that performs a specific task.'}\n",
        "\n",
        "#printing values\n",
        "\n",
        "for key in dictionary.keys():\n",
        "  print(f\"{key}:\\n\\t{dictionary[key]}\")"
      ],
      "metadata": {
        "colab": {
          "base_uri": "https://localhost:8080/"
        },
        "id": "E1W9-PSKaNE1",
        "outputId": "7af5b7f2-3bd6-4042-aabe-584c849b1d9e"
      },
      "execution_count": null,
      "outputs": [
        {
          "output_type": "stream",
          "name": "stdout",
          "text": [
            "Variable:\n",
            "\tA container for storing data values.\n",
            "String:\n",
            "\tA sequence of characters.\n",
            "List:\n",
            "\tAn ordered collection of items. \n",
            "Dictionary:\n",
            "\tA collection of key-value pairs.\n",
            "Function:\n",
            "\tA block of code that performs a specific task.\n"
          ]
        }
      ]
    },
    {
      "cell_type": "markdown",
      "source": [
        "# Exercise **2**"
      ],
      "metadata": {
        "id": "QpWxHReVcqbN"
      }
    },
    {
      "cell_type": "markdown",
      "source": [
        "# Question **1**"
      ],
      "metadata": {
        "id": "Kgbv2u3Jct91"
      }
    },
    {
      "cell_type": "code",
      "source": [
        "#list of the all people\n",
        "people = ['umman' , 'zulfuqar', 'sarah', 'jen', 'sarjan', 'edward', 'phil']\n",
        "\n",
        "#defining dictionary\n",
        "favorite_languages = {\n",
        "    'jen': ['python', 'rust'],\n",
        "    'sarah': ['c'],\n",
        "    'edward': ['rust', 'go'],\n",
        "    'phil': ['python', 'haskell'],\n",
        "    }\n",
        "\n",
        "#looping through list of people\n",
        "for person in people:\n",
        "  if person in favorite_languages.keys():\n",
        "    print(f\"{person.title()}, thanks for responding!!!\")\n",
        "  else:\n",
        "    print(f\"{person.title()}, please take the damn poll!!!\")"
      ],
      "metadata": {
        "colab": {
          "base_uri": "https://localhost:8080/"
        },
        "id": "O3DagtDtci0K",
        "outputId": "c8d9d7d1-f70f-4818-d003-b8ba67e3a1fc"
      },
      "execution_count": null,
      "outputs": [
        {
          "output_type": "stream",
          "name": "stdout",
          "text": [
            "Umman, please take the damn poll!!!\n",
            "Zulfuqar, please take the damn poll!!!\n",
            "Sarah, thanks for responding!!!\n",
            "Jen, thanks for responding!!!\n",
            "Sarjan, please take the damn poll!!!\n",
            "Edward, thanks for responding!!!\n",
            "Phil, thanks for responding!!!\n"
          ]
        }
      ]
    },
    {
      "cell_type": "markdown",
      "source": [
        "# Question **2**"
      ],
      "metadata": {
        "id": "jhyGUVsuecxt"
      }
    },
    {
      "cell_type": "code",
      "source": [
        "#defining dicts\n",
        "dict_1 = {'Horse' : 'Napoleon'}\n",
        "dict_2 = {'Snake' : 'Medusa'}\n",
        "dict_3 = {'Cat' : 'Kleopatra'}\n",
        "\n",
        "#defining list of dicts\n",
        "dicts = [dict_1, dict_2, dict_3]\n",
        "\n",
        "#looping list and printing values\n",
        "for dictt in dicts:\n",
        "  for key in dictt.keys():\n",
        "    print(f\"{key}'s owner is {dictt[key]}.\")\n"
      ],
      "metadata": {
        "colab": {
          "base_uri": "https://localhost:8080/"
        },
        "id": "D80_cldqegdZ",
        "outputId": "e77e1201-0b3d-4395-a6c1-12877bbd4961"
      },
      "execution_count": null,
      "outputs": [
        {
          "output_type": "stream",
          "name": "stdout",
          "text": [
            "Horse's owner is Napoleon.\n",
            "Snake's owner is Medusa.\n",
            "Cat's owner is Kleopatra.\n"
          ]
        }
      ]
    },
    {
      "cell_type": "markdown",
      "source": [
        "# Question **3**"
      ],
      "metadata": {
        "id": "Yt_MGGnWgtWz"
      }
    },
    {
      "cell_type": "code",
      "source": [
        "#defining dictionary\n",
        "favorite_places = {'Sarjan' : ['Nakchivan', 'Sahbuz', 'Baku'],\n",
        "                   'Vasif'  : ['Baku', 'Saki'],\n",
        "                   'Oghuz' : ['Rome', 'Istanbul']}\n",
        "\n",
        "#looping through dictionary\n",
        "for key in favorite_places.keys():\n",
        "  print(f\"{key}'s favorite places are \", end = '')\n",
        "  for place in favorite_places[key]:\n",
        "    print(f\"{place}, \", end = '')\n",
        "  print('')"
      ],
      "metadata": {
        "colab": {
          "base_uri": "https://localhost:8080/"
        },
        "id": "at8bg5dPgDTr",
        "outputId": "6545c584-0f92-4be0-9c09-41a8e346fe5e"
      },
      "execution_count": null,
      "outputs": [
        {
          "output_type": "stream",
          "name": "stdout",
          "text": [
            "Sarjan's favorite places are Nakchivan, Sahbuz, Baku, \n",
            "Vasif's favorite places are Baku, Saki, \n",
            "Oghuz's favorite places are Rome, Istanbul, \n"
          ]
        }
      ]
    },
    {
      "cell_type": "markdown",
      "source": [
        "# Question **4**"
      ],
      "metadata": {
        "id": "8zkpug-LjHfP"
      }
    },
    {
      "cell_type": "code",
      "source": [
        "#defining dictionary\n",
        "cities = {'Baku' : {'country' : 'Azerbaijan', 'population' : 3000000, 'fact' : 'being a windy city'},\n",
        "          'Nakchivan' : {'country' : 'Azerbaijan', 'population' : 450000, 'fact' : 'being city of salt'},\n",
        "          'Rome' : {'country' : 'Italy', 'population' : 2830000, 'fact' : 'being city of Colosseum'}\n",
        "          }\n",
        "\n",
        "#looping through dictionary\n",
        "for key in cities.keys():\n",
        "  for info in cities[key].keys():\n",
        "    print(f\"{info.title()} of {key} is {cities[key][info]}.\")\n",
        "  print('\\n')"
      ],
      "metadata": {
        "colab": {
          "base_uri": "https://localhost:8080/"
        },
        "id": "mLCiuhftjKFV",
        "outputId": "815bb2fc-d4a0-43cd-977b-7b2d0eeece2c"
      },
      "execution_count": null,
      "outputs": [
        {
          "output_type": "stream",
          "name": "stdout",
          "text": [
            "Country of Baku is Azerbaijan.\n",
            "Population of Baku is 3000000.\n",
            "Fact of Baku is being a windy city.\n",
            "\n",
            "\n",
            "Country of Nakchivan is Azerbaijan.\n",
            "Population of Nakchivan is 450000.\n",
            "Fact of Nakchivan is being city of salt.\n",
            "\n",
            "\n",
            "Country of Rome is Italy.\n",
            "Population of Rome is 2830000.\n",
            "Fact of Rome is being city of Colosseum.\n",
            "\n",
            "\n"
          ]
        }
      ]
    }
  ]
}