{
  "nbformat": 4,
  "nbformat_minor": 0,
  "metadata": {
    "colab": {
      "provenance": [],
      "authorship_tag": "ABX9TyPFJODbGO6ZTum2qyXw1+9x",
      "include_colab_link": true
    },
    "kernelspec": {
      "name": "python3",
      "display_name": "Python 3"
    },
    "language_info": {
      "name": "python"
    }
  },
  "cells": [
    {
      "cell_type": "markdown",
      "metadata": {
        "id": "view-in-github",
        "colab_type": "text"
      },
      "source": [
        "<a href=\"https://colab.research.google.com/github/SarjanM/Artificial-Intelligence-Course/blob/main/S%C9%99rcan_M%C9%99smal%C4%B1yev_Function_HomeTask_Solved.ipynb\" target=\"_parent\"><img src=\"https://colab.research.google.com/assets/colab-badge.svg\" alt=\"Open In Colab\"/></a>"
      ]
    },
    {
      "cell_type": "markdown",
      "source": [
        "#Question **1**"
      ],
      "metadata": {
        "id": "Vumdz0Lco0R0"
      }
    },
    {
      "cell_type": "code",
      "execution_count": 28,
      "metadata": {
        "colab": {
          "base_uri": "https://localhost:8080/"
        },
        "id": "hH4oUA6Foq-T",
        "outputId": "6a252847-fb17-4b3f-bdfb-4a239af17b21"
      },
      "outputs": [
        {
          "output_type": "stream",
          "name": "stdout",
          "text": [
            "True\n"
          ]
        }
      ],
      "source": [
        "#defining function\n",
        "def is_even(n):\n",
        "  if n%2 == 0:\n",
        "    return True\n",
        "  else:\n",
        "    return False\n",
        "\n",
        "#checking function\n",
        "num = 14\n",
        "\n",
        "print(is_even(num))"
      ]
    },
    {
      "cell_type": "markdown",
      "source": [
        "#Question **2**"
      ],
      "metadata": {
        "id": "Vn6PIOVHp68r"
      }
    },
    {
      "cell_type": "code",
      "source": [
        "#defining function\n",
        "def is_prime(n):\n",
        "  if n == 1:\n",
        "    return False\n",
        "  for i in range(2,n):\n",
        "    if n%i == 0:\n",
        "      return False\n",
        "  return True\n",
        "\n",
        "#checking function\n",
        "num = 5\n",
        "print(is_prime(num))"
      ],
      "metadata": {
        "colab": {
          "base_uri": "https://localhost:8080/"
        },
        "id": "htpr08t_pzet",
        "outputId": "3f8e8923-afbe-4bec-d36d-6ead2706cba3"
      },
      "execution_count": 3,
      "outputs": [
        {
          "output_type": "stream",
          "name": "stdout",
          "text": [
            "True\n"
          ]
        }
      ]
    },
    {
      "cell_type": "markdown",
      "source": [
        "#Question **3**"
      ],
      "metadata": {
        "id": "ZWh-sW3HrNH4"
      }
    },
    {
      "cell_type": "code",
      "source": [
        "#defining function\n",
        "def multiplier(arr):\n",
        "  prod = 1\n",
        "  for i in arr:\n",
        "    prod *= i\n",
        "  return prod\n",
        "\n",
        "#checking function\n",
        "numbers = [8, 2, 3, -1, 7]\n",
        "\n",
        "print(f'Sample List : {numbers}\\nExpected Output : {multiplier(numbers)}')"
      ],
      "metadata": {
        "colab": {
          "base_uri": "https://localhost:8080/"
        },
        "id": "nlp0W1PyrCru",
        "outputId": "b41325c5-5984-4122-956c-31ec01aa8ff6"
      },
      "execution_count": 4,
      "outputs": [
        {
          "output_type": "stream",
          "name": "stdout",
          "text": [
            "Sample List : [8, 2, 3, -1, 7]\n",
            "Expected Output : -336\n"
          ]
        }
      ]
    },
    {
      "cell_type": "markdown",
      "source": [
        "#Question **4**"
      ],
      "metadata": {
        "id": "OlVk_P2jsMoA"
      }
    },
    {
      "cell_type": "code",
      "source": [
        "#defining function\n",
        "def counter(string):\n",
        "  upper = 0\n",
        "  lower = 0\n",
        "  for i in string:\n",
        "    if i.isupper():\n",
        "      upper += 1\n",
        "    elif i.islower():\n",
        "      lower += 1\n",
        "  print(f\"No. of Upper case characters : {upper}\\nNo. of Lower case Characters : {lower}\")\n",
        "\n",
        "#checking function\n",
        "sample = 'The quick Brow Fox'\n",
        "\n",
        "print(f'Sample String : {sample}')\n",
        "counter(sample)"
      ],
      "metadata": {
        "colab": {
          "base_uri": "https://localhost:8080/"
        },
        "id": "erxquLxJsKvL",
        "outputId": "5886371b-310e-4fd1-c3f2-7bce5e3a3a9c"
      },
      "execution_count": 5,
      "outputs": [
        {
          "output_type": "stream",
          "name": "stdout",
          "text": [
            "Sample String : The quick Brow Fox\n",
            "No. of Upper case characters : 3\n",
            "No. of Lower case Characters : 12\n"
          ]
        }
      ]
    },
    {
      "cell_type": "markdown",
      "source": [
        "#Question **5**"
      ],
      "metadata": {
        "id": "V4yxr7N8vTL3"
      }
    },
    {
      "cell_type": "code",
      "source": [
        "#defining function\n",
        "def squarer():\n",
        "  lst = []\n",
        "  for i in range(1,31):\n",
        "    lst.append(i**2)\n",
        "  return lst\n",
        "\n",
        "#checking function\n",
        "print(squarer())"
      ],
      "metadata": {
        "colab": {
          "base_uri": "https://localhost:8080/"
        },
        "id": "yWu_poF-u9Cb",
        "outputId": "2bc1951f-43d6-4408-de31-b44a98899e52"
      },
      "execution_count": 6,
      "outputs": [
        {
          "output_type": "stream",
          "name": "stdout",
          "text": [
            "[1, 4, 9, 16, 25, 36, 49, 64, 81, 100, 121, 144, 169, 196, 225, 256, 289, 324, 361, 400, 441, 484, 529, 576, 625, 676, 729, 784, 841, 900]\n"
          ]
        }
      ]
    },
    {
      "cell_type": "markdown",
      "source": [
        "#Question **6**"
      ],
      "metadata": {
        "id": "WzCqpwYMwg63"
      }
    },
    {
      "cell_type": "code",
      "source": [
        "#defining function\n",
        "def is_armstrong(n):\n",
        "  copyn = n\n",
        "  summ = 0\n",
        "  num_digits = len(str(n))\n",
        "  while n>0:\n",
        "    summ += (n%10)**num_digits\n",
        "    n //= 10\n",
        "  if summ == copyn:\n",
        "    return True\n",
        "  else:\n",
        "    return False\n",
        "\n",
        "#checking function\n",
        "num = 153\n",
        "if is_armstrong(num):\n",
        "  print(f'{num} is armstrong number.')\n",
        "else:\n",
        "    print(f'{num} is not armstrong number.')"
      ],
      "metadata": {
        "colab": {
          "base_uri": "https://localhost:8080/"
        },
        "id": "aEdRRRyRxMRc",
        "outputId": "ccd45291-55ee-4793-f076-f3a7b6675936"
      },
      "execution_count": 9,
      "outputs": [
        {
          "output_type": "stream",
          "name": "stdout",
          "text": [
            "153 is armstrong number.\n"
          ]
        }
      ]
    },
    {
      "cell_type": "markdown",
      "source": [
        "#Question **7**"
      ],
      "metadata": {
        "id": "BXpsSAWo0E87"
      }
    },
    {
      "cell_type": "code",
      "source": [
        "#defining function\n",
        "def digit_summer(n):\n",
        "  summ = 0\n",
        "  while n>0:\n",
        "    summ += n%10\n",
        "    n //= 10\n",
        "  return summ\n",
        "\n",
        "#checking function\n",
        "num = 123\n",
        "print(f'Sum of digits of {num} is {digit_summer(num)}.')\n"
      ],
      "metadata": {
        "colab": {
          "base_uri": "https://localhost:8080/"
        },
        "id": "AV5XwTSQ0IQB",
        "outputId": "b9255af8-3426-4710-9418-6ed4787d0090"
      },
      "execution_count": 10,
      "outputs": [
        {
          "output_type": "stream",
          "name": "stdout",
          "text": [
            "Sum of digits of 123 is 6.\n"
          ]
        }
      ]
    },
    {
      "cell_type": "markdown",
      "source": [
        "#Question **8**"
      ],
      "metadata": {
        "id": "P7ud_X180xSG"
      }
    },
    {
      "cell_type": "code",
      "source": [
        "#defining function\n",
        "def num_divisors(n):\n",
        "  count = 0\n",
        "  for i in range(1,n+1):\n",
        "    if n%i == 0:\n",
        "      count += 1\n",
        "  return count\n",
        "\n",
        "#checking function\n",
        "num = 6\n",
        "print(f'Number of divisors of {num} is {num_divisors(num)}.')"
      ],
      "metadata": {
        "colab": {
          "base_uri": "https://localhost:8080/"
        },
        "id": "pJs-M7gf0wJH",
        "outputId": "ff665e20-f775-42c0-ff8a-871e9e539c98"
      },
      "execution_count": 15,
      "outputs": [
        {
          "output_type": "stream",
          "name": "stdout",
          "text": [
            "Number of divisors of 6 is 4.\n"
          ]
        }
      ]
    },
    {
      "cell_type": "markdown",
      "source": [
        "#Question **9**"
      ],
      "metadata": {
        "id": "UuBbZtuf1tWG"
      }
    },
    {
      "cell_type": "code",
      "source": [
        "#defining function\n",
        "def fuel_cost(distance = 50, cost = 1):\n",
        "  return distance * cost * 0.25\n",
        "\n",
        "#checking function\n",
        "dist = 10\n",
        "price = 1\n",
        "print(f'Distance: {dist}\\nCost: {price}\\nFuel Cost: {fuel_cost(dist,price)}')"
      ],
      "metadata": {
        "colab": {
          "base_uri": "https://localhost:8080/"
        },
        "id": "mmx8rG1e1mQE",
        "outputId": "454320d2-853d-4683-d4fe-e2d4b328b5df"
      },
      "execution_count": 19,
      "outputs": [
        {
          "output_type": "stream",
          "name": "stdout",
          "text": [
            "Distance: 10\n",
            "Cost: 1\n",
            "Fuel Cost: 2.5\n"
          ]
        }
      ]
    },
    {
      "cell_type": "markdown",
      "source": [
        "#Question **10**"
      ],
      "metadata": {
        "id": "wbMO5r1R2911"
      }
    },
    {
      "cell_type": "code",
      "source": [
        "#defining function\n",
        "def hcf(n1,n2):\n",
        "  if n1>n2:\n",
        "    n1,n2 = n2,n1\n",
        "  for i in range(n1+1,0,-1):\n",
        "    if n1%i == 0 and n2%i == 0:\n",
        "      return i\n",
        "  return 1\n",
        "\n",
        "#checking function\n",
        "num1 = 12\n",
        "num2  = 4\n",
        "print(f'hcf({num1},{num2}) = {hcf(num1,num2)}')"
      ],
      "metadata": {
        "colab": {
          "base_uri": "https://localhost:8080/"
        },
        "id": "4-sVbLyg2sZI",
        "outputId": "e636ec79-14a2-42b5-a6ca-88c676741adc"
      },
      "execution_count": 26,
      "outputs": [
        {
          "output_type": "stream",
          "name": "stdout",
          "text": [
            "hcf(12,4) = 4\n"
          ]
        }
      ]
    }
  ]
}