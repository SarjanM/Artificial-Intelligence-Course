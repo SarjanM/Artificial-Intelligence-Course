{
  "nbformat": 4,
  "nbformat_minor": 0,
  "metadata": {
    "colab": {
      "provenance": []
    },
    "kernelspec": {
      "name": "python3",
      "display_name": "Python 3"
    },
    "language_info": {
      "name": "python"
    }
  },
  "cells": [
    {
      "cell_type": "markdown",
      "source": [
        "# **Question 1**"
      ],
      "metadata": {
        "id": "50Hk5o5VdXzy"
      }
    },
    {
      "cell_type": "code",
      "execution_count": null,
      "metadata": {
        "id": "eSMADdeGc-23",
        "colab": {
          "base_uri": "https://localhost:8080/"
        },
        "outputId": "6ab035b9-f174-4181-f941-f134c3cf61d6"
      },
      "outputs": [
        {
          "output_type": "stream",
          "name": "stdout",
          "text": [
            "abcd\n"
          ]
        }
      ],
      "source": [
        "#creating list\n",
        "my_list = ['a', 'b', 'c' , 'd']\n",
        "\n",
        "#creating empty string\n",
        "my_str = ''\n",
        "\n",
        "#loop for adding elements to string\n",
        "for i in my_list:\n",
        "  my_str += i\n",
        "\n",
        "#printing desired string\n",
        "print(my_str)\n"
      ]
    },
    {
      "cell_type": "markdown",
      "source": [
        "# **Question 2**"
      ],
      "metadata": {
        "id": "21YMrjDWdZzX"
      }
    },
    {
      "cell_type": "code",
      "source": [
        "#getting radius from user\n",
        "radii = float(input('Please enter radius of circle: '))\n",
        "\n",
        "#pi\n",
        "pi = 3.14\n",
        "\n",
        "#printing area of the circle\n",
        "print(f'Area of the circle having radius of {radii} is {2*pi*(radii**2)}')"
      ],
      "metadata": {
        "colab": {
          "base_uri": "https://localhost:8080/"
        },
        "id": "aDvAdH-ydiU7",
        "outputId": "8f340bee-d4da-42ad-ca41-ff2ebca7554c"
      },
      "execution_count": null,
      "outputs": [
        {
          "output_type": "stream",
          "name": "stdout",
          "text": [
            "Please enter radius of circle: 1\n",
            "Area of the circle having radius of 1.0 is 6.28\n"
          ]
        }
      ]
    },
    {
      "cell_type": "markdown",
      "source": [
        "# **Question 3**"
      ],
      "metadata": {
        "id": "myWSGn_ldcTH"
      }
    },
    {
      "cell_type": "code",
      "source": [
        "# getting three number from user\n",
        "my_list = []\n",
        "\n",
        "for i in range(3):\n",
        "  num = int(input(f'Please enter number {i+1}:\\n'))\n",
        "  my_list.append(num)\n",
        "\n",
        "#sorting my_list in descending order\n",
        "my_list.sort(reverse=True)\n",
        "\n",
        "#printing desired output\n",
        "print('Output: ',end = '')\n",
        "for i in my_list:\n",
        "  print(i,end='')"
      ],
      "metadata": {
        "colab": {
          "base_uri": "https://localhost:8080/"
        },
        "id": "yaLqP9sBdiz4",
        "outputId": "6a383173-7710-4528-c237-f142ade47f98"
      },
      "execution_count": null,
      "outputs": [
        {
          "output_type": "stream",
          "name": "stdout",
          "text": [
            "Please enter number 1:\n",
            "4\n",
            "Please enter number 2:\n",
            "1\n",
            "Please enter number 3:\n",
            "6\n",
            "Output: 641"
          ]
        }
      ]
    },
    {
      "cell_type": "markdown",
      "source": [
        "# **Question 4**"
      ],
      "metadata": {
        "id": "qteILh1ldd_G"
      }
    },
    {
      "cell_type": "code",
      "source": [
        "#creating list of numbers\n",
        "my_list = [1,2,3,4,5]\n",
        "print(f'Input:\\n {my_list}')\n",
        "\n",
        "#squaring each element in list and adding to another one\n",
        "\n",
        "square_list = []\n",
        "\n",
        "for i in my_list:\n",
        "  square_list.append(i**2)\n",
        "\n",
        "#printing output\n",
        "print(f'Output:\\n {square_list}')"
      ],
      "metadata": {
        "colab": {
          "base_uri": "https://localhost:8080/"
        },
        "id": "YCtoDg2hdjOv",
        "outputId": "e45dd56e-e312-480d-f676-fd1d25668be5"
      },
      "execution_count": null,
      "outputs": [
        {
          "output_type": "stream",
          "name": "stdout",
          "text": [
            "Input:\n",
            " [1, 2, 3, 4, 5]\n",
            "Output:\n",
            " [1, 4, 9, 16, 25]\n"
          ]
        }
      ]
    },
    {
      "cell_type": "markdown",
      "source": [
        "# **Question 5**"
      ],
      "metadata": {
        "id": "rpYPJnJxdfg3"
      }
    },
    {
      "cell_type": "code",
      "source": [
        "#creating list of numbers\n",
        "my_list = [1,2,3,4]\n",
        "print(f'Input:\\n {my_list}')\n",
        "\n",
        "#finding cumulative sum and adding it to new list\n",
        "new_list = []\n",
        "summ = 0\n",
        "\n",
        "for i in my_list:\n",
        "  summ += i\n",
        "  new_list.append(summ)\n",
        "\n",
        "#printing desired output\n",
        "print(f'Output:\\n {new_list}')"
      ],
      "metadata": {
        "colab": {
          "base_uri": "https://localhost:8080/"
        },
        "id": "j1Nc-PSSdjud",
        "outputId": "a748039b-903d-4e10-e7bc-ee1ff800339f"
      },
      "execution_count": null,
      "outputs": [
        {
          "output_type": "stream",
          "name": "stdout",
          "text": [
            "Input:\n",
            " [1, 2, 3, 4]\n",
            "Output:\n",
            " [1, 3, 6, 10]\n"
          ]
        }
      ]
    }
  ]
}