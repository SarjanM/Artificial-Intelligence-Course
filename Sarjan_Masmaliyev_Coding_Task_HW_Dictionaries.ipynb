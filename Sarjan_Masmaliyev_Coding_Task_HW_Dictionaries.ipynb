{
  "nbformat": 4,
  "nbformat_minor": 0,
  "metadata": {
    "colab": {
      "provenance": []
    },
    "kernelspec": {
      "name": "python3",
      "display_name": "Python 3"
    },
    "language_info": {
      "name": "python"
    }
  },
  "cells": [
    {
      "cell_type": "markdown",
      "source": [
        "# Question **1**"
      ],
      "metadata": {
        "id": "F6eZ9Q9CfCrp"
      }
    },
    {
      "cell_type": "code",
      "source": [
        "#creating two different dictionary\n",
        "dict_1 = {'Sarjan' : 'student' , 'age' : 21}\n",
        "dict_2 = {'Sarjan' : 'boy' , 'major' : 'Automation'}\n",
        "\n",
        "#looping through one of the dictionary\n",
        "#if there are overlapping case adding their values\n",
        "for key in dict_1.keys():\n",
        "  if key in dict_2.keys():\n",
        "    dict_1[key]= dict_1[key]+dict_2[key]\n",
        "\n",
        "#merging two dictionary to one of them\n",
        "dict_2.update(dict_1)\n",
        "dict_2"
      ],
      "metadata": {
        "colab": {
          "base_uri": "https://localhost:8080/"
        },
        "id": "ekJ6rPJUf5Rv",
        "outputId": "03310a91-a8ed-4197-ba0a-27bab3a056c9"
      },
      "execution_count": null,
      "outputs": [
        {
          "output_type": "execute_result",
          "data": {
            "text/plain": [
              "{'Sarjan': 'studentboy', 'major': 'Automation', 'age': 21}"
            ]
          },
          "metadata": {},
          "execution_count": 7
        }
      ]
    },
    {
      "cell_type": "markdown",
      "source": [
        "# Question **2**"
      ],
      "metadata": {
        "id": "dUiDbiwOfnhk"
      }
    },
    {
      "cell_type": "code",
      "source": [
        "#creating empty dictionary\n",
        "#method 1 with {}\n",
        "dict_1 = {}\n",
        "print(dict_1)\n",
        "\n",
        "#method 2 with dict()\n",
        "\n",
        "dict_2 = dict()\n",
        "print(dict_2)"
      ],
      "metadata": {
        "colab": {
          "base_uri": "https://localhost:8080/"
        },
        "id": "aP785LqLirtP",
        "outputId": "e09cc1aa-2359-4efe-b6a1-43622f02e52e"
      },
      "execution_count": null,
      "outputs": [
        {
          "output_type": "stream",
          "name": "stdout",
          "text": [
            "{}\n",
            "{}\n"
          ]
        }
      ]
    },
    {
      "cell_type": "markdown",
      "source": [
        "# Question **3**"
      ],
      "metadata": {
        "id": "sOghRw4IfoDA"
      }
    },
    {
      "cell_type": "code",
      "source": [
        "#creating a dictionary\n",
        "fruits = {\n",
        "  'apple' : 'green',\n",
        "  'banana' : 'yellow',\n",
        "  'cherry' : 'pink',\n",
        "  }\n",
        "\n",
        "#method 1 using items()\n",
        "for item in fruits.items():\n",
        "  print(f'{item}')\n",
        "\n",
        "print('--------------------')\n",
        "\n",
        "#method 2 using keys()\n",
        "for key in fruits.keys():\n",
        "  print(f'{key} : {fruits[key]}')"
      ],
      "metadata": {
        "colab": {
          "base_uri": "https://localhost:8080/"
        },
        "id": "bpCpJEHrlZ0_",
        "outputId": "0066737a-2978-401c-db10-0a58cfd63eba"
      },
      "execution_count": null,
      "outputs": [
        {
          "output_type": "stream",
          "name": "stdout",
          "text": [
            "('apple', 'green')\n",
            "('banana', 'yellow')\n",
            "('cherry', 'pink')\n",
            "--------------------\n",
            "apple : green\n",
            "banana : yellow\n",
            "cherry : pink\n"
          ]
        }
      ]
    },
    {
      "cell_type": "markdown",
      "source": [
        "# Question **4**"
      ],
      "metadata": {
        "id": "f6JRusBrfqpz"
      }
    },
    {
      "cell_type": "code",
      "source": [
        "#creating a dictionary\n",
        "student = {'Sarjan' : 'student',\n",
        "          'age' : 21,\n",
        "          'major' : 'Automation'}\n",
        "print(f'Original list: {student}')\n",
        "\n",
        "#method 1 using pop()\n",
        "\n",
        "student.pop('age')\n",
        "print(f'Updated list: {student}')"
      ],
      "metadata": {
        "colab": {
          "base_uri": "https://localhost:8080/"
        },
        "id": "kzs8qjlsnH3F",
        "outputId": "e1873a44-3026-4862-ce6d-843e7f4700cd"
      },
      "execution_count": null,
      "outputs": [
        {
          "output_type": "stream",
          "name": "stdout",
          "text": [
            "Original list: {'Sarjan': 'student', 'age': 21, 'major': 'Automation'}\n",
            "Updated list: {'Sarjan': 'student', 'major': 'Automation'}\n"
          ]
        }
      ]
    },
    {
      "cell_type": "code",
      "source": [
        "student = {'Sarjan' : 'student',\n",
        "          'age' : 21,\n",
        "          'major' : 'Automation'}\n",
        "\n",
        "print(f'Original list: {student}')\n",
        "\n",
        "#method 2 using del\n",
        "\n",
        "del student['age']\n",
        "print(f'Updated list: {student}')"
      ],
      "metadata": {
        "colab": {
          "base_uri": "https://localhost:8080/"
        },
        "id": "dQY6B2O1oLQY",
        "outputId": "f8e1ec3b-0239-430f-8849-b4e60b1ab88d"
      },
      "execution_count": null,
      "outputs": [
        {
          "output_type": "stream",
          "name": "stdout",
          "text": [
            "Original list: {'Sarjan': 'student', 'age': 21, 'major': 'Automation'}\n",
            "Updated list: {'Sarjan': 'student', 'major': 'Automation'}\n"
          ]
        }
      ]
    },
    {
      "cell_type": "markdown",
      "source": [
        "# Question **5**"
      ],
      "metadata": {
        "id": "Lemg4yMKfqfN"
      }
    },
    {
      "cell_type": "code",
      "source": [
        "#creating a dictionary\n",
        "student = {'sarjan' : 'student',\n",
        "          'age' : 21,\n",
        "          'major' : 'Automation'}\n",
        "print(f'Original list: {student}')\n",
        "\n",
        "#sorting dictionary in ascending order\n",
        "student = dict(sorted(student.items()))\n",
        "\n",
        "print(f'Updated list: {student}')\n"
      ],
      "metadata": {
        "colab": {
          "base_uri": "https://localhost:8080/"
        },
        "id": "OY45Qbb-ojhZ",
        "outputId": "58a9d128-6c24-445d-b212-1d055385760b"
      },
      "execution_count": null,
      "outputs": [
        {
          "output_type": "stream",
          "name": "stdout",
          "text": [
            "Original list: {'sarjan': 'student', 'age': 21, 'major': 'Automation'}\n",
            "Updated list: {'age': 21, 'major': 'Automation', 'sarjan': 'student'}\n"
          ]
        }
      ]
    },
    {
      "cell_type": "markdown",
      "source": [
        "# Question **6**"
      ],
      "metadata": {
        "id": "-FU24wmBfqU1"
      }
    },
    {
      "cell_type": "code",
      "source": [
        "#creating a dictionary\n",
        "students_scores = {'Alice': 85, 'Bob': 90}\n",
        "\n",
        "print(f'Original list: {students_scores}')\n",
        "\n",
        "#updating Alice's score\n",
        "#method 1\n",
        "students_scores['Alice'] = 95\n",
        "\n",
        "#adding Charlie to dictionary\n",
        "#method 1\n",
        "students_scores.update({'Charlie': 60})\n",
        "print(f'Updated list: {students_scores}')\n"
      ],
      "metadata": {
        "colab": {
          "base_uri": "https://localhost:8080/"
        },
        "id": "ZCOcNoy5ryBL",
        "outputId": "f8f19e46-ea8f-484e-ccab-20e04edd548a"
      },
      "execution_count": null,
      "outputs": [
        {
          "output_type": "stream",
          "name": "stdout",
          "text": [
            "Original list: {'Alice': 85, 'Bob': 90}\n",
            "Updated list: {'Alice': 95, 'Bob': 90, 'Charlie': 60}\n"
          ]
        }
      ]
    },
    {
      "cell_type": "code",
      "source": [
        "#creating a dictionary\n",
        "students_scores = {'Alice': 85, 'Bob': 90}\n",
        "\n",
        "print(f'Original list: {students_scores}')\n",
        "\n",
        "#updating Alice's score\n",
        "#method 2\n",
        "students_scores.update({'Alice': 95})\n",
        "\n",
        "#adding Charlie to dictionary\n",
        "#method 1\n",
        "students_scores['Charlie'] = 60\n",
        "print(f'Updated list: {students_scores}')\n"
      ],
      "metadata": {
        "colab": {
          "base_uri": "https://localhost:8080/"
        },
        "id": "rFLTxy0wtLch",
        "outputId": "8c80dccf-02de-44ac-adce-65b3c9d285fa"
      },
      "execution_count": null,
      "outputs": [
        {
          "output_type": "stream",
          "name": "stdout",
          "text": [
            "Original list: {'Alice': 85, 'Bob': 90}\n",
            "Updated list: {'Alice': 95, 'Bob': 90, 'Charlie': 60}\n"
          ]
        }
      ]
    },
    {
      "cell_type": "markdown",
      "source": [
        "# Question **7**"
      ],
      "metadata": {
        "id": "_Cux_so1fqKH"
      }
    },
    {
      "cell_type": "code",
      "source": [
        "#creating a dictionary\n",
        "fruits = {\n",
        "  'apple' : 'green',\n",
        "  'banana' : 'yellow',\n",
        "  'cherry' : 'pink',\n",
        "  }\n",
        "\n",
        "#using loop printing all values\n",
        "for value in fruits.values():\n",
        "  print(f'{value}')"
      ],
      "metadata": {
        "colab": {
          "base_uri": "https://localhost:8080/"
        },
        "id": "cB1XuzjJtcGw",
        "outputId": "ee4637f8-ec0b-4ccc-f0ea-963b69a8ba63"
      },
      "execution_count": null,
      "outputs": [
        {
          "output_type": "stream",
          "name": "stdout",
          "text": [
            "green\n",
            "yellow\n",
            "pink\n"
          ]
        }
      ]
    },
    {
      "cell_type": "markdown",
      "source": [
        "# Question **8**"
      ],
      "metadata": {
        "id": "QUFGwAIVfoaV"
      }
    },
    {
      "cell_type": "code",
      "source": [
        "#creating a dictionary\n",
        "item_prices = {'apple': 1.00, 'banana': 0.50}\n",
        "\n",
        "#finding total price using loop\n",
        "total_price = 0\n",
        "for price in item_prices.values():\n",
        "  total_price += price\n",
        "\n",
        "print(f'Total price before discount is {total_price}')\n",
        "\n",
        "#finding total price using loop by updating values\n",
        "total_price = 0\n",
        "for key,price in item_prices.items():\n",
        "  item_prices.update({key : price*0.9})\n",
        "  total_price += price*0.9\n",
        "print(f'Total price after discount is {total_price}')\n",
        "print(f'Updated list: {item_prices}')"
      ],
      "metadata": {
        "colab": {
          "base_uri": "https://localhost:8080/"
        },
        "id": "ivcOh9S1uFqn",
        "outputId": "600bd8dc-e0e0-45b9-e05c-32f136dd0edd"
      },
      "execution_count": null,
      "outputs": [
        {
          "output_type": "stream",
          "name": "stdout",
          "text": [
            "Total price before discount is 1.5\n",
            "Total price after discount is 1.35\n",
            "Updated list: {'apple': 0.9, 'banana': 0.45}\n"
          ]
        }
      ]
    },
    {
      "cell_type": "code",
      "source": [],
      "metadata": {
        "id": "xIXX7d0jvF35"
      },
      "execution_count": null,
      "outputs": []
    }
  ]
}